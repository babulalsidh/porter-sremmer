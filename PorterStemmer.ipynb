{
 "cells": [
  {
   "cell_type": "code",
   "execution_count": 1,
   "id": "d889c7fc-e64f-417a-88d3-5862593c75e9",
   "metadata": {},
   "outputs": [],
   "source": [
    "import nltk"
   ]
  },
  {
   "cell_type": "code",
   "execution_count": 4,
   "id": "c8c5b4df-1a86-4575-89ad-ac7091d10bdb",
   "metadata": {},
   "outputs": [],
   "source": [
    "from nltk.stem import PorterStemmer"
   ]
  },
  {
   "cell_type": "code",
   "execution_count": 7,
   "id": "8a0dfe8c-0ead-46e4-95a8-09702666c614",
   "metadata": {},
   "outputs": [],
   "source": [
    "stemmer = PorterStemmer()"
   ]
  },
  {
   "cell_type": "code",
   "execution_count": 8,
   "id": "3c06228a-7357-418f-99d8-2ab0853306f8",
   "metadata": {},
   "outputs": [
    {
     "name": "stdout",
     "output_type": "stream",
     "text": [
      "run\n"
     ]
    }
   ],
   "source": [
    "print(stemmer.stem(\"running\"))"
   ]
  },
  {
   "cell_type": "code",
   "execution_count": 18,
   "id": "67fb439d-0406-4057-9e1d-cf4c49150a02",
   "metadata": {},
   "outputs": [],
   "source": [
    "text1 = \"The cats are running and eating quickly.\""
   ]
  },
  {
   "cell_type": "code",
   "execution_count": 19,
   "id": "abe06d95-f378-4493-b38f-036140094964",
   "metadata": {},
   "outputs": [
    {
     "data": {
      "text/plain": [
       "['The', 'cats', 'are', 'running', 'and', 'eating', 'quickly.']"
      ]
     },
     "execution_count": 19,
     "metadata": {},
     "output_type": "execute_result"
    }
   ],
   "source": [
    "text1.split()\n",
    "    "
   ]
  },
  {
   "cell_type": "code",
   "execution_count": 30,
   "id": "3f08ba97-f6b8-42ed-983a-382f02b090ab",
   "metadata": {},
   "outputs": [],
   "source": [
    "def get_stemmer(text1):\n",
    "    myword = []\n",
    "    "
   ]
  },
  {
   "cell_type": "code",
   "execution_count": 31,
   "id": "b4ec1823-e5ae-4a45-aee6-94c47bd16bf9",
   "metadata": {},
   "outputs": [
    {
     "ename": "SyntaxError",
     "evalue": "invalid syntax (2548695650.py, line 1)",
     "output_type": "error",
     "traceback": [
      "  \u001b[36mCell\u001b[39m\u001b[36m \u001b[39m\u001b[32mIn[31]\u001b[39m\u001b[32m, line 1\u001b[39m\n\u001b[31m    \u001b[39m\u001b[31mfor word text.split():\u001b[39m\n             ^\n\u001b[31mSyntaxError\u001b[39m\u001b[31m:\u001b[39m invalid syntax\n"
     ]
    }
   ],
   "source": [
    "for word text.split():"
   ]
  },
  {
   "cell_type": "code",
   "execution_count": null,
   "id": "4777011a-5f9e-46be-a7eb-2783571dfd7b",
   "metadata": {},
   "outputs": [],
   "source": [
    "myword.append(stemmer.stem(word)"
   ]
  }
 ],
 "metadata": {
  "kernelspec": {
   "display_name": "Python 3 (ipykernel)",
   "language": "python",
   "name": "python3"
  },
  "language_info": {
   "codemirror_mode": {
    "name": "ipython",
    "version": 3
   },
   "file_extension": ".py",
   "mimetype": "text/x-python",
   "name": "python",
   "nbconvert_exporter": "python",
   "pygments_lexer": "ipython3",
   "version": "3.13.5"
  }
 },
 "nbformat": 4,
 "nbformat_minor": 5
}
